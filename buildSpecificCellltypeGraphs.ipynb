{
 "cells": [
  {
   "cell_type": "code",
   "execution_count": 1,
   "id": "924afb33",
   "metadata": {},
   "outputs": [],
   "source": [
    "from graph_tool import *\n",
    "from tqdm import tqdm\n",
    "import csv"
   ]
  },
  {
   "cell_type": "code",
   "execution_count": 2,
   "id": "8637bcd8",
   "metadata": {},
   "outputs": [
    {
     "name": "stderr",
     "output_type": "stream",
     "text": [
      "1264526it [00:05, 247728.50it/s]\n"
     ]
    }
   ],
   "source": [
    "# get dict with REMID as key and corresponding CREM as value\n",
    "# dict with CREM as key and contained REMs as value\n",
    "crem_dict = dict()\n",
    "rem_crem_dict = dict()\n",
    "with open('../data/clusterREMs_1.csv') as file:\n",
    "    reader = csv.reader(file)\n",
    "    for row in tqdm(reader):\n",
    "        if row[0] != \"REMID\":\n",
    "            crem_dict[row[0]] = [row[1], row[3], row[4]]\n",
    "            if rem_crem_dict.get(row[1]) == None:\n",
    "                rem_crem_dict[row[1]] = [row[0]]\n",
    "            else:\n",
    "                rem_crem_dict[row[1]].append(row[0])"
   ]
  },
  {
   "cell_type": "code",
   "execution_count": 3,
   "id": "ee745548",
   "metadata": {},
   "outputs": [
    {
     "name": "stderr",
     "output_type": "stream",
     "text": [
      "58175it [00:00, 406372.69it/s]\n"
     ]
    }
   ],
   "source": [
    "# get dict with GENE name as key and start and end as value\n",
    "gene_dict = dict()\n",
    "with open('../data/GeneAnnotation_1.csv') as file:\n",
    "    reader = csv.reader(file)\n",
    "    for row in tqdm(reader):\n",
    "        if row[0] != \"chr\":\n",
    "            gene_dict[row[3]] = [int(row[1]), int(row[2]), row[0]]"
   ]
  },
  {
   "cell_type": "code",
   "execution_count": 4,
   "id": "074ff3b5",
   "metadata": {},
   "outputs": [],
   "source": [
    "sample_celltype_dict = dict()\n",
    "ID_celltype_dict = dict()\n",
    "with open('../data/sampleToCelltype.csv') as sampleToCelltype:\n",
    "    reader = csv.reader(sampleToCelltype)\n",
    "    for row in reader:\n",
    "        if row[0] != \"sampleID\":\n",
    "            # load dict with sample and corresponding celltype\n",
    "            sample_celltype_dict[row[0]] = [row[1], row[2]]\n",
    "            \n",
    "            # load dict with celltype ID and corresponding celltype\n",
    "            ID_celltype_dict[row[1]] = row[2]\n",
    "\n",
    "# print(sample_celltype_dict)\n",
    "# print(ID_celltype_dict)"
   ]
  },
  {
   "cell_type": "code",
   "execution_count": 5,
   "id": "7a612c84",
   "metadata": {},
   "outputs": [
    {
     "name": "stderr",
     "output_type": "stream",
     "text": [
      "6399141it [00:09, 644180.88it/s]\n",
      "3257745it [00:04, 667813.42it/s]\n"
     ]
    }
   ],
   "source": [
    "# dict for genes with their expression values in each sample for both data sets (Roadmap and Blueprint)\n",
    "gene_expr_dict = dict()\n",
    "with open('../data/GeneExpressionRoadmap_1.csv') as file:\n",
    "    reader = csv.reader(file)\n",
    "    for row in tqdm(reader):\n",
    "        species = row[3]\n",
    "        gene = row[0]\n",
    "        sample = row[1]\n",
    "        exprs = row[2]\n",
    "#         if sample not in sample_set:\n",
    "#             continue\n",
    "        if species != \"species\":\n",
    "            if gene_expr_dict.get(gene) == None:\n",
    "                gene_expr_dict[gene] = {sample : exprs}\n",
    "            elif gene_expr_dict[gene].get(sample) == None:\n",
    "                gene_expr_dict.get(gene)[sample] = exprs\n",
    "                \n",
    "with open('../data/GeneExpressionBlueprint_1.csv') as file:\n",
    "    reader = csv.reader(file)\n",
    "    for row in tqdm(reader):\n",
    "        species = row[3]\n",
    "        gene = row[0]\n",
    "        sample = row[1]\n",
    "        exprs = row[2]\n",
    "#         if sample not in sample_set:\n",
    "#             continue\n",
    "        if species != \"species\":\n",
    "            if gene_expr_dict.get(gene) == None:\n",
    "                gene_expr_dict[gene] = {sample : exprs}\n",
    "            elif gene_expr_dict[gene].get(sample) == None:\n",
    "                gene_expr_dict.get(gene)[sample] = exprs\n"
   ]
  },
  {
   "cell_type": "code",
   "execution_count": 6,
   "id": "3000769d",
   "metadata": {
    "scrolled": true
   },
   "outputs": [
    {
     "name": "stderr",
     "output_type": "stream",
     "text": [
      "399206927it [16:22, 406420.96it/s]\n"
     ]
    }
   ],
   "source": [
    "# rem_dict{celltypes : {samples: {REMs: score}}}\n",
    "# dict to map celltype to samples and the included REMs with their scores\n",
    "\n",
    "rem_dict = dict()\n",
    "with open('../data/REMActivity_1.csv') as file_1:\n",
    "    reader_1 = csv.reader(file_1)\n",
    "    for r in tqdm(reader_1):\n",
    "        rem = r[0] \n",
    "        sample = r[1] \n",
    "        score = r[3] \n",
    "        \n",
    "        if sample_celltype_dict.get(sample) == None:       # if sample not \n",
    "            continue\n",
    "        else:\n",
    "            celltype = sample_celltype_dict.get(sample)[0]\n",
    "            \n",
    "        if rem_dict.get(celltype) == None:\n",
    "            rem_dict[celltype] = {sample: {rem: score}}\n",
    "            \n",
    "        elif rem_dict[celltype].get(sample) == None:\n",
    "            rem_dict.get(celltype)[sample] = {rem: score}\n",
    "            \n",
    "        else:\n",
    "            rem_dict[celltype].get(sample)[rem] = score\n",
    "            "
   ]
  },
  {
   "cell_type": "code",
   "execution_count": 14,
   "id": "a45241ff",
   "metadata": {},
   "outputs": [
    {
     "name": "stderr",
     "output_type": "stream",
     "text": [
      "2404862it [01:02, 38509.58it/s]\n"
     ]
    }
   ],
   "source": [
    "# create template graph to fill with celltype specific values afterwards\n",
    "# Graph contains gens and rems and their edges buth with no values\n",
    "\n",
    "g = Graph()\n",
    "name = g.new_vp(\"string\")\n",
    "g.vp.name = name\n",
    "type = g.new_vp(\"string\")\n",
    "g.vp.type = type\n",
    "start = g.new_vp(\"int\")\n",
    "g.vp.start = start\n",
    "end = g.new_vp(\"int\")\n",
    "g.vp.end = end\n",
    "rem = g.new_ep(\"string\")\n",
    "g.ep.rem = rem\n",
    "chr = g.new_vp(\"string\")\n",
    "g.vp.chr = chr\n",
    "celltypeID = g.new_ep(\"string\")\n",
    "g.edge_properties[\"celltypeID\"] = celltypeID\n",
    "celltype = g.new_ep(\"string\")\n",
    "g.edge_properties[\"celltype\"] = celltype\n",
    "\n",
    "done_proteins_dict = {}\n",
    "done_crems = {}\n",
    "with open('../data/REMAnnotationModelScore_1.csv') as file:\n",
    "    reader = csv.reader(file)\n",
    "    for row in tqdm(reader):\n",
    "        rem_name = row[4]\n",
    "        gen = row[3]\n",
    "        crem = crem_dict.get(rem_name)\n",
    "        if crem != None:\n",
    "            crem = crem[0]\n",
    "        if row[1] != \"start\":\n",
    "            \n",
    "            if crem in done_crems:\n",
    "                v1 = g.vertex(done_crems.get(crem))\n",
    "            elif crem != None:\n",
    "                v1 = g.add_vertex()\n",
    "                g.vp.name[v1] = crem\n",
    "                g.vp.type[v1] = \"REM\"\n",
    "                g.vp.chr[v1] = row[0]\n",
    "                g.vp.start[v1] = crem_dict.get(rem_name)[1]\n",
    "                g.vp.end[v1] = crem_dict.get(rem_name)[2]\n",
    "                done_crems[crem] = int(v1)\n",
    "            else:\n",
    "                v1 = g.add_vertex()\n",
    "                g.vp.name[v1] = rem_name\n",
    "                g.vp.type[v1] = \"REM\"\n",
    "                g.vp.chr[v1] = row[0]\n",
    "                g.vp.start[v1] = int(row[1])\n",
    "                g.vp.end[v1] = int(row[2])\n",
    "\n",
    "            if done_proteins_dict.get(gen) == None:\n",
    "                v2 = g.add_vertex()\n",
    "                g.vp.name[v2] = gen\n",
    "                g.vp.type[v2] = \"Gene\"\n",
    "                g.vp.chr[v2] = gene_dict.get(gen)[2]\n",
    "                g.vp.start[v2] = gene_dict.get(gen)[0]\n",
    "                g.vp.end[v2] = gene_dict.get(gen)[1]\n",
    "                done_proteins_dict[gen] = int(v2)\n",
    "            else:\n",
    "                v2 = g.vertex(done_proteins_dict.get(gen))\n",
    "\n",
    "            e = g.add_edge(v1, v2)\n",
    "            g.ep.rem[e] = rem_name\n",
    "                \n",
    "g.save(f\"../data/graph-tool/template.gt\")"
   ]
  },
  {
   "cell_type": "code",
   "execution_count": 16,
   "id": "79db5c60",
   "metadata": {
    "scrolled": true
   },
   "outputs": [
    {
     "name": "stdout",
     "output_type": "stream",
     "text": [
      "CTID_0000006\n"
     ]
    },
    {
     "name": "stderr",
     "output_type": "stream",
     "text": [
      "2404861it [02:55, 13715.29it/s]\n",
      "2404861it [02:54, 13749.76it/s]\n",
      "2404861it [02:55, 13724.67it/s]\n"
     ]
    },
    {
     "name": "stdout",
     "output_type": "stream",
     "text": [
      "CTID_0000027\n"
     ]
    },
    {
     "name": "stderr",
     "output_type": "stream",
     "text": [
      "2404861it [02:56, 13637.31it/s]\n"
     ]
    },
    {
     "name": "stdout",
     "output_type": "stream",
     "text": [
      "CTID_0000033\n"
     ]
    },
    {
     "name": "stderr",
     "output_type": "stream",
     "text": [
      "2404861it [02:55, 13721.52it/s]\n",
      "2404861it [02:58, 13502.76it/s]\n",
      "2404861it [02:54, 13786.83it/s]\n",
      "2404861it [02:53, 13869.60it/s]\n",
      "2404861it [02:53, 13872.68it/s]\n",
      "2404861it [02:54, 13764.80it/s]\n"
     ]
    },
    {
     "name": "stdout",
     "output_type": "stream",
     "text": [
      "CTID_0000026\n"
     ]
    },
    {
     "name": "stderr",
     "output_type": "stream",
     "text": [
      "2404861it [02:56, 13590.28it/s]\n"
     ]
    },
    {
     "name": "stdout",
     "output_type": "stream",
     "text": [
      "CTID_0000030\n"
     ]
    },
    {
     "name": "stderr",
     "output_type": "stream",
     "text": [
      "2404861it [02:56, 13605.48it/s]\n",
      "2404861it [02:54, 13749.13it/s]\n"
     ]
    },
    {
     "name": "stdout",
     "output_type": "stream",
     "text": [
      "CTID_0000034\n"
     ]
    },
    {
     "name": "stderr",
     "output_type": "stream",
     "text": [
      "2404861it [02:55, 13679.34it/s]\n",
      "2404861it [02:55, 13734.38it/s]\n"
     ]
    },
    {
     "name": "stdout",
     "output_type": "stream",
     "text": [
      "CTID_0000032\n"
     ]
    },
    {
     "name": "stderr",
     "output_type": "stream",
     "text": [
      "2404861it [02:55, 13734.01it/s]\n",
      "2404861it [02:53, 13854.59it/s]\n"
     ]
    },
    {
     "name": "stdout",
     "output_type": "stream",
     "text": [
      "CTID_0000035\n"
     ]
    },
    {
     "name": "stderr",
     "output_type": "stream",
     "text": [
      "2404861it [02:54, 13813.82it/s]\n",
      "2404861it [02:55, 13698.85it/s]\n",
      "2404861it [02:54, 13760.92it/s]\n",
      "2404861it [02:54, 13757.76it/s]\n",
      "2404861it [02:54, 13791.82it/s]\n",
      "2404861it [02:54, 13764.92it/s]\n",
      "1722272it [02:04, 13784.03it/s]IOPub message rate exceeded.\n",
      "The notebook server will temporarily stop sending output\n",
      "to the client in order to avoid crashing it.\n",
      "To change this limit, set the config variable\n",
      "`--NotebookApp.iopub_msg_rate_limit`.\n",
      "\n",
      "Current values:\n",
      "NotebookApp.iopub_msg_rate_limit=1000.0 (msgs/sec)\n",
      "NotebookApp.rate_limit_window=3.0 (secs)\n",
      "\n",
      "2404861it [03:00, 13339.64it/s]\n",
      "2404861it [02:53, 13867.69it/s]\n",
      "1700589it [02:02, 13873.76it/s]IOPub message rate exceeded.\n",
      "The notebook server will temporarily stop sending output\n",
      "to the client in order to avoid crashing it.\n",
      "To change this limit, set the config variable\n",
      "`--NotebookApp.iopub_msg_rate_limit`.\n",
      "\n",
      "Current values:\n",
      "NotebookApp.iopub_msg_rate_limit=1000.0 (msgs/sec)\n",
      "NotebookApp.rate_limit_window=3.0 (secs)\n",
      "\n",
      "2404861it [02:56, 13605.21it/s]\n",
      "2404861it [02:56, 13658.43it/s]\n"
     ]
    },
    {
     "name": "stdout",
     "output_type": "stream",
     "text": [
      "CTID_0000031\n"
     ]
    },
    {
     "name": "stderr",
     "output_type": "stream",
     "text": [
      "1332710it [01:36, 13869.31it/s]IOPub message rate exceeded.\n",
      "The notebook server will temporarily stop sending output\n",
      "to the client in order to avoid crashing it.\n",
      "To change this limit, set the config variable\n",
      "`--NotebookApp.iopub_msg_rate_limit`.\n",
      "\n",
      "Current values:\n",
      "NotebookApp.iopub_msg_rate_limit=1000.0 (msgs/sec)\n",
      "NotebookApp.rate_limit_window=3.0 (secs)\n",
      "\n",
      "2404861it [02:55, 13719.64it/s]\n",
      "2404861it [02:54, 13754.50it/s]\n",
      "831171it [01:00, 13770.75it/s]IOPub message rate exceeded.\n",
      "The notebook server will temporarily stop sending output\n",
      "to the client in order to avoid crashing it.\n",
      "To change this limit, set the config variable\n",
      "`--NotebookApp.iopub_msg_rate_limit`.\n",
      "\n",
      "Current values:\n",
      "NotebookApp.iopub_msg_rate_limit=1000.0 (msgs/sec)\n",
      "NotebookApp.rate_limit_window=3.0 (secs)\n",
      "\n",
      "2404861it [02:53, 13833.78it/s]\n",
      "2404861it [02:53, 13865.00it/s]\n",
      "304459it [00:22, 13901.07it/s]IOPub message rate exceeded.\n",
      "The notebook server will temporarily stop sending output\n",
      "to the client in order to avoid crashing it.\n",
      "To change this limit, set the config variable\n",
      "`--NotebookApp.iopub_msg_rate_limit`.\n",
      "\n",
      "Current values:\n",
      "NotebookApp.iopub_msg_rate_limit=1000.0 (msgs/sec)\n",
      "NotebookApp.rate_limit_window=3.0 (secs)\n",
      "\n",
      "2404861it [02:55, 13674.84it/s]\n",
      "1416039it [01:42, 13925.59it/s]IOPub message rate exceeded.\n",
      "The notebook server will temporarily stop sending output\n",
      "to the client in order to avoid crashing it.\n",
      "To change this limit, set the config variable\n",
      "`--NotebookApp.iopub_msg_rate_limit`.\n",
      "\n",
      "Current values:\n",
      "NotebookApp.iopub_msg_rate_limit=1000.0 (msgs/sec)\n",
      "NotebookApp.rate_limit_window=3.0 (secs)\n",
      "\n",
      "2404861it [02:53, 13825.46it/s]\n",
      "2404861it [02:54, 13809.39it/s]\n"
     ]
    },
    {
     "name": "stdout",
     "output_type": "stream",
     "text": [
      "CTID_0000051\n"
     ]
    },
    {
     "name": "stderr",
     "output_type": "stream",
     "text": [
      "558216it [00:40, 13799.80it/s]IOPub message rate exceeded.\n",
      "The notebook server will temporarily stop sending output\n",
      "to the client in order to avoid crashing it.\n",
      "To change this limit, set the config variable\n",
      "`--NotebookApp.iopub_msg_rate_limit`.\n",
      "\n",
      "Current values:\n",
      "NotebookApp.iopub_msg_rate_limit=1000.0 (msgs/sec)\n",
      "NotebookApp.rate_limit_window=3.0 (secs)\n",
      "\n",
      "2404861it [02:53, 13850.01it/s]\n",
      "1878901it [02:16, 13821.13it/s]IOPub message rate exceeded.\n",
      "The notebook server will temporarily stop sending output\n",
      "to the client in order to avoid crashing it.\n",
      "To change this limit, set the config variable\n",
      "`--NotebookApp.iopub_msg_rate_limit`.\n",
      "\n",
      "Current values:\n",
      "NotebookApp.iopub_msg_rate_limit=1000.0 (msgs/sec)\n",
      "NotebookApp.rate_limit_window=3.0 (secs)\n",
      "\n",
      "2404861it [02:55, 13741.62it/s]\n",
      "2404861it [02:53, 13886.49it/s]\n",
      "523850it [00:37, 13949.39it/s]IOPub message rate exceeded.\n",
      "The notebook server will temporarily stop sending output\n",
      "to the client in order to avoid crashing it.\n",
      "To change this limit, set the config variable\n",
      "`--NotebookApp.iopub_msg_rate_limit`.\n",
      "\n",
      "Current values:\n",
      "NotebookApp.iopub_msg_rate_limit=1000.0 (msgs/sec)\n",
      "NotebookApp.rate_limit_window=3.0 (secs)\n",
      "\n",
      "2404861it [02:53, 13892.88it/s]\n"
     ]
    },
    {
     "name": "stdout",
     "output_type": "stream",
     "text": [
      "CTID_0000050\n"
     ]
    },
    {
     "name": "stderr",
     "output_type": "stream",
     "text": [
      "2312510it [02:46, 13773.73it/s]IOPub message rate exceeded.\n",
      "The notebook server will temporarily stop sending output\n",
      "to the client in order to avoid crashing it.\n",
      "To change this limit, set the config variable\n",
      "`--NotebookApp.iopub_msg_rate_limit`.\n",
      "\n",
      "Current values:\n",
      "NotebookApp.iopub_msg_rate_limit=1000.0 (msgs/sec)\n",
      "NotebookApp.rate_limit_window=3.0 (secs)\n",
      "\n",
      "2404861it [02:52, 13921.65it/s]\n",
      "1408708it [01:40, 13878.79it/s]IOPub message rate exceeded.\n",
      "The notebook server will temporarily stop sending output\n",
      "to the client in order to avoid crashing it.\n",
      "To change this limit, set the config variable\n",
      "`--NotebookApp.iopub_msg_rate_limit`.\n",
      "\n",
      "Current values:\n",
      "NotebookApp.iopub_msg_rate_limit=1000.0 (msgs/sec)\n",
      "NotebookApp.rate_limit_window=3.0 (secs)\n",
      "\n",
      "2404861it [02:52, 13966.15it/s]\n"
     ]
    },
    {
     "name": "stdout",
     "output_type": "stream",
     "text": [
      "CTID_0000054\n"
     ]
    },
    {
     "name": "stderr",
     "output_type": "stream",
     "text": [
      "1412889it [01:41, 13840.01it/s]IOPub message rate exceeded.\n",
      "The notebook server will temporarily stop sending output\n",
      "to the client in order to avoid crashing it.\n",
      "To change this limit, set the config variable\n",
      "`--NotebookApp.iopub_msg_rate_limit`.\n",
      "\n",
      "Current values:\n",
      "NotebookApp.iopub_msg_rate_limit=1000.0 (msgs/sec)\n",
      "NotebookApp.rate_limit_window=3.0 (secs)\n",
      "\n",
      "2321476it [02:48, 13744.03it/s]IOPub message rate exceeded.\n",
      "The notebook server will temporarily stop sending output\n",
      "to the client in order to avoid crashing it.\n",
      "To change this limit, set the config variable\n",
      "`--NotebookApp.iopub_msg_rate_limit`.\n",
      "\n",
      "Current values:\n",
      "NotebookApp.iopub_msg_rate_limit=1000.0 (msgs/sec)\n",
      "NotebookApp.rate_limit_window=3.0 (secs)\n",
      "\n",
      "2404861it [02:53, 13858.01it/s]\n",
      "2199340it [02:38, 13674.07it/s]IOPub message rate exceeded.\n",
      "The notebook server will temporarily stop sending output\n",
      "to the client in order to avoid crashing it.\n",
      "To change this limit, set the config variable\n",
      "`--NotebookApp.iopub_msg_rate_limit`.\n",
      "\n",
      "Current values:\n",
      "NotebookApp.iopub_msg_rate_limit=1000.0 (msgs/sec)\n",
      "NotebookApp.rate_limit_window=3.0 (secs)\n",
      "\n",
      "2404861it [02:53, 13875.44it/s]\n",
      "809385it [00:58, 13814.89it/s]IOPub message rate exceeded.\n",
      "The notebook server will temporarily stop sending output\n",
      "to the client in order to avoid crashing it.\n",
      "To change this limit, set the config variable\n",
      "`--NotebookApp.iopub_msg_rate_limit`.\n",
      "\n",
      "Current values:\n",
      "NotebookApp.iopub_msg_rate_limit=1000.0 (msgs/sec)\n",
      "NotebookApp.rate_limit_window=3.0 (secs)\n",
      "\n",
      "2404861it [02:56, 13588.21it/s]\n",
      "874850it [01:03, 13700.39it/s]IOPub message rate exceeded.\n",
      "The notebook server will temporarily stop sending output\n",
      "to the client in order to avoid crashing it.\n",
      "To change this limit, set the config variable\n",
      "`--NotebookApp.iopub_msg_rate_limit`.\n",
      "\n",
      "Current values:\n",
      "NotebookApp.iopub_msg_rate_limit=1000.0 (msgs/sec)\n",
      "NotebookApp.rate_limit_window=3.0 (secs)\n",
      "\n",
      "1908261it [02:17, 13831.91it/s]IOPub message rate exceeded.\n",
      "The notebook server will temporarily stop sending output\n",
      "to the client in order to avoid crashing it.\n",
      "To change this limit, set the config variable\n",
      "`--NotebookApp.iopub_msg_rate_limit`.\n",
      "\n",
      "Current values:\n",
      "NotebookApp.iopub_msg_rate_limit=1000.0 (msgs/sec)\n",
      "NotebookApp.rate_limit_window=3.0 (secs)\n",
      "\n",
      "2404861it [02:53, 13889.94it/s]\n",
      "1808004it [02:10, 14041.89it/s]IOPub message rate exceeded.\n",
      "The notebook server will temporarily stop sending output\n",
      "to the client in order to avoid crashing it.\n",
      "To change this limit, set the config variable\n",
      "`--NotebookApp.iopub_msg_rate_limit`.\n",
      "\n",
      "Current values:\n",
      "NotebookApp.iopub_msg_rate_limit=1000.0 (msgs/sec)\n",
      "NotebookApp.rate_limit_window=3.0 (secs)\n",
      "\n",
      "2404861it [02:54, 13794.95it/s]\n",
      "789442it [00:56, 13883.01it/s]IOPub message rate exceeded.\n",
      "The notebook server will temporarily stop sending output\n",
      "to the client in order to avoid crashing it.\n",
      "To change this limit, set the config variable\n",
      "`--NotebookApp.iopub_msg_rate_limit`.\n",
      "\n",
      "Current values:\n",
      "NotebookApp.iopub_msg_rate_limit=1000.0 (msgs/sec)\n",
      "NotebookApp.rate_limit_window=3.0 (secs)\n",
      "\n",
      "2404861it [02:53, 13866.01it/s]\n",
      "973011it [01:10, 13815.08it/s]IOPub message rate exceeded.\n",
      "The notebook server will temporarily stop sending output\n",
      "to the client in order to avoid crashing it.\n",
      "To change this limit, set the config variable\n",
      "`--NotebookApp.iopub_msg_rate_limit`.\n",
      "\n",
      "Current values:\n",
      "NotebookApp.iopub_msg_rate_limit=1000.0 (msgs/sec)\n",
      "NotebookApp.rate_limit_window=3.0 (secs)\n",
      "\n",
      "2404861it [02:52, 13972.70it/s]\n"
     ]
    }
   ],
   "source": [
    "# load template graph and fill with celltype edge values by iterating over samples in celltype\n",
    "\n",
    "graph = load_graph(f\"../data/graph-tool/template.gt\")\n",
    "\n",
    "for celltype_id in rem_dict:\n",
    "    print(celltype_id)\n",
    "    \n",
    "    g = Graph(graph)\n",
    "    samples = rem_dict.get(celltype_id)\n",
    "    celltype_name = ID_celltype_dict.get(celltype_id)\n",
    "    \n",
    "    for sample in samples:\n",
    "        sampleID = g.new_ep(\"double\")\n",
    "        g.edge_properties[sample] = sampleID\n",
    "        sample_g = g.new_vp(\"double\")\n",
    "        g.vertex_properties[sample]= sample_g\n",
    "    \n",
    "        for e in tqdm(g.edges()):\n",
    "            rem = g.vp.name[e.source()]\n",
    "            g.ep.celltypeID[e] = celltype_id\n",
    "            g.ep.celltype[e] = celltype_name\n",
    "            \n",
    "            gene = g.vp.name[e.target()]                      # adding gene expr for specific sample\n",
    "            expr = gene_expr_dict.get(gene).get(sample) \n",
    "            g.vp[sample][e.target()] = expr\n",
    "            \n",
    "            rem_edge_name = g.ep.rem[e]                       # adding sample name with DNase value\n",
    "            g.ep[sample][e] = samples.get(sample).get(rem_edge_name)\n",
    "            \n",
    "    g.save(f\"../data/graph-tool/{celltype_id}.gt\")\n",
    "#     break"
   ]
  },
  {
   "cell_type": "code",
   "execution_count": null,
   "id": "c162148e",
   "metadata": {},
   "outputs": [],
   "source": [
    "# check if all edges are the same in all samples\n",
    "d = dict()\n",
    "with open('../data/REMActivity_1.csv') as file:\n",
    "    reader = csv.reader(file)\n",
    "    counter = 0\n",
    "    for row in tqdm(reader):\n",
    "        if row[0] != \"REMID\":\n",
    "            if d.get(row[1]) != None:\n",
    "                d[row[1]].add(row[0])\n",
    "            else:\n",
    "                d[row[1]] = {row[0]}\n",
    "        \n",
    "check = list(d.values())[0]\n",
    "for k in d.keys():\n",
    "#     print(k)\n",
    "    if  len(check.difference(d.get(k))) != 0:\n",
    "        print(k)"
   ]
  }
 ],
 "metadata": {
  "kernelspec": {
   "display_name": "Python 3 (ipykernel)",
   "language": "python",
   "name": "python3"
  },
  "language_info": {
   "codemirror_mode": {
    "name": "ipython",
    "version": 3
   },
   "file_extension": ".py",
   "mimetype": "text/x-python",
   "name": "python",
   "nbconvert_exporter": "python",
   "pygments_lexer": "ipython3",
   "version": "3.9.16"
  }
 },
 "nbformat": 4,
 "nbformat_minor": 5
}
