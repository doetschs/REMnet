{
 "cells": [
  {
   "cell_type": "code",
   "execution_count": 1,
   "id": "f2339dd9",
   "metadata": {},
   "outputs": [],
   "source": [
    "from graph_tool.all import *\n",
    "from tqdm import tqdm\n",
    "import csv"
   ]
  },
  {
   "cell_type": "code",
   "execution_count": 2,
   "id": "4463d331",
   "metadata": {},
   "outputs": [
    {
     "name": "stderr",
     "output_type": "stream",
     "text": [
      "1264526it [00:05, 247458.85it/s]\n"
     ]
    }
   ],
   "source": [
    "# get dict with REMID as key and corresponding CREM as value\n",
    "# dict with CREM as key and contained REMs as value\n",
    "crem_dict = dict()\n",
    "rem_crem_dict = dict()\n",
    "with open('../data/clusterREMs_1.csv') as file:\n",
    "    reader = csv.reader(file)\n",
    "    for row in tqdm(reader):\n",
    "        if row[0] != \"REMID\":\n",
    "            crem_dict[row[0]] = [row[1], row[3], row[4]]\n",
    "            if rem_crem_dict.get(row[1]) == None:\n",
    "                rem_crem_dict[row[1]] = [row[0]]\n",
    "            else:\n",
    "                rem_crem_dict[row[1]].append(row[0])"
   ]
  },
  {
   "cell_type": "code",
   "execution_count": 3,
   "id": "2d2e670e",
   "metadata": {},
   "outputs": [
    {
     "name": "stderr",
     "output_type": "stream",
     "text": [
      "58175it [00:00, 467508.88it/s]\n"
     ]
    },
    {
     "data": {
      "text/plain": [
       "58174"
      ]
     },
     "execution_count": 3,
     "metadata": {},
     "output_type": "execute_result"
    }
   ],
   "source": [
    "# get dict with GENE name as key and start and end as value\n",
    "gene_dict = dict()\n",
    "with open('../data/GeneAnnotation_1.csv') as file:\n",
    "    reader = csv.reader(file)\n",
    "#     counter = 0\n",
    "    for row in tqdm(reader):\n",
    "        if row[0] != \"chr\":\n",
    "            gene_dict[row[3]] = [int(row[1]), int(row[2]), row[0]]\n",
    "#             print(row)\n",
    "#             counter += 1\n",
    "#             if(counter == 10):\n",
    "#                 break"
   ]
  },
  {
   "cell_type": "code",
   "execution_count": 11,
   "id": "a9a6e928",
   "metadata": {},
   "outputs": [
    {
     "name": "stderr",
     "output_type": "stream",
     "text": [
      "2404862it [03:30, 11438.34it/s]\n"
     ]
    }
   ],
   "source": [
    "g = Graph()\n",
    "name = g.new_vp(\"string\")\n",
    "g.vp.name = name\n",
    "type = g.new_vp(\"string\")\n",
    "g.vp.type = type\n",
    "rem = g.new_ep(\"string\")\n",
    "g.ep.rem = rem\n",
    "chr = g.new_vp(\"string\")\n",
    "g.vp.chr = chr\n",
    "start = g.new_vp(\"int\")\n",
    "g.vp.start = start\n",
    "end = g.new_vp(\"int\")\n",
    "g.vp.end = end\n",
    "score = g.new_ep(\"double\")\n",
    "g.edge_properties[\"score\"] = score\n",
    "p_value = g.new_ep(\"double\")\n",
    "g.ep.p_value = p_value\n",
    "\n",
    "done_proteins_dict = {}\n",
    "done_crems = {}\n",
    "with open('../data/REMAnnotationModelScore_1.csv') as file:\n",
    "    reader = csv.reader(file)\n",
    "#     counter = 0\n",
    "    for row in tqdm(reader):\n",
    "        rem_name = row[4]\n",
    "        gen = row[3]\n",
    "        crem = crem_dict.get(rem_name)\n",
    "        if crem != None:\n",
    "            crem = crem[0]\n",
    "        if row[1] != \"start\":\n",
    "            if crem in done_crems:\n",
    "                v1 = g.vertex(done_crems.get(crem))\n",
    "            elif crem != None:\n",
    "                v1 = g.add_vertex()\n",
    "                g.vp.name[v1] = crem\n",
    "                g.vp.type[v1] = \"REM\"\n",
    "                g.vp.chr[v1] = row[0]\n",
    "                g.vp.start[v1] = crem_dict.get(rem_name)[1]\n",
    "                g.vp.end[v1] = crem_dict.get(rem_name)[2]\n",
    "                done_crems[crem] = int(v1)\n",
    "            else:\n",
    "                v1 = g.add_vertex()\n",
    "                g.vp.name[v1] = rem_name\n",
    "                g.vp.type[v1] = \"REM\"\n",
    "                g.vp.chr[v1] = row[0]\n",
    "                g.vp.start[v1] = int(row[1])\n",
    "                g.vp.end[v1] = int(row[2])\n",
    "            \n",
    "            if done_proteins_dict.get(gen) == None:\n",
    "                v2 = g.add_vertex()\n",
    "                g.vp.name[v2] = gen\n",
    "                g.vp.type[v2] = \"Gene\"\n",
    "                g.vp.chr[v2] = gene_dict.get(gen)[2]\n",
    "                g.vp.start[v2] = gene_dict.get(gen)[0]\n",
    "                g.vp.end[v2] = gene_dict.get(gen)[1]\n",
    "                done_proteins_dict[gen] = int(v2)\n",
    "            else:\n",
    "                v2 = g.vertex(done_proteins_dict.get(gen))\n",
    "                \n",
    "            e = g.add_edge(v1, v2)\n",
    "            g.ep.score[e] = row[7]\n",
    "            g.ep.p_value[e] = row[6]\n",
    "            g.ep.rem[e] = rem_name\n",
    "        \n",
    "#         counter += 1\n",
    "#         if(counter == 4):\n",
    "#             break"
   ]
  },
  {
   "cell_type": "code",
   "execution_count": 12,
   "id": "d52b278a",
   "metadata": {},
   "outputs": [],
   "source": [
    "g.save(\"../data/graph-tool/allCelltypeGraph.gt\")"
   ]
  }
 ],
 "metadata": {
  "kernelspec": {
   "display_name": "Python 3 (ipykernel)",
   "language": "python",
   "name": "python3"
  },
  "language_info": {
   "codemirror_mode": {
    "name": "ipython",
    "version": 3
   },
   "file_extension": ".py",
   "mimetype": "text/x-python",
   "name": "python",
   "nbconvert_exporter": "python",
   "pygments_lexer": "ipython3",
   "version": "3.9.16"
  }
 },
 "nbformat": 4,
 "nbformat_minor": 5
}
