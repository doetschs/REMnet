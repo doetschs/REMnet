{
 "cells": [
  {
   "cell_type": "code",
   "execution_count": 1,
   "id": "3c4dd54c",
   "metadata": {},
   "outputs": [],
   "source": [
    "import requests\n",
    "import gzip\n",
    "import shutil\n",
    "import csv"
   ]
  },
  {
   "cell_type": "code",
   "execution_count": 18,
   "id": "95c54d91",
   "metadata": {},
   "outputs": [
    {
     "data": {
      "text/plain": [
       "1018"
      ]
     },
     "execution_count": 18,
     "metadata": {},
     "output_type": "execute_result"
    }
   ],
   "source": [
    "URL = \"https://zenodo.org/record/3758494/files/CellTypeInfo.csv.gz?download=1\"\n",
    "# 2. download the data behind the URL\n",
    "response = requests.get(URL)\n",
    "open(\"../data/CellTypeInfo.csv.gz\", \"wb\").write(response.content)"
   ]
  },
  {
   "cell_type": "code",
   "execution_count": 19,
   "id": "3f38384d",
   "metadata": {},
   "outputs": [],
   "source": [
    "with gzip.open('../data/CellTypeInfo.csv.gz', 'rb') as f_in:\n",
    "    with open('../data/CellTypeInfo.csv', 'wb') as f_out:\n",
    "        shutil.copyfileobj(f_in, f_out)"
   ]
  },
  {
   "cell_type": "code",
   "execution_count": 4,
   "id": "179e0593",
   "metadata": {},
   "outputs": [
    {
     "data": {
      "text/plain": [
       "2933785154"
      ]
     },
     "execution_count": 4,
     "metadata": {},
     "output_type": "execute_result"
    }
   ],
   "source": [
    "URL = \"https://gdc-hub.s3.us-east-1.amazonaws.com/download/TCGA-BRCA.methylation450.tsv.gz\"\n",
    "name = URL.split(\"/\")[-1]\n",
    "# 2. download the data behind the URL\n",
    "response = requests.get(URL)\n",
    "open(f\"../data/TCGA/BRCA/{name}\", \"wb\").write(response.content)"
   ]
  },
  {
   "cell_type": "code",
   "execution_count": 5,
   "id": "9400a24c",
   "metadata": {},
   "outputs": [],
   "source": [
    "with gzip.open(f'../data/TCGA/BRCA/{name}', 'rb') as f_in:\n",
    "    name = name[:-3]\n",
    "    with open(f'../data/TCGA/BRCA/{name}', 'wb') as f_out:\n",
    "        shutil.copyfileobj(f_in, f_out)"
   ]
  }
 ],
 "metadata": {
  "kernelspec": {
   "display_name": "Python 3 (ipykernel)",
   "language": "python",
   "name": "python3"
  },
  "language_info": {
   "codemirror_mode": {
    "name": "ipython",
    "version": 3
   },
   "file_extension": ".py",
   "mimetype": "text/x-python",
   "name": "python",
   "nbconvert_exporter": "python",
   "pygments_lexer": "ipython3",
   "version": "3.9.16"
  }
 },
 "nbformat": 4,
 "nbformat_minor": 5
}
