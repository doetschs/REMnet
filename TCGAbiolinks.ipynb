{
 "cells": [
  {
   "cell_type": "code",
   "execution_count": null,
   "id": "8ca935a0",
   "metadata": {},
   "outputs": [],
   "source": [
    "library(TCGAbiolinks)\n",
    "\n",
    "subtypes <- PanCancerAtlas_subtypes()\n",
    "\n",
    "sub_brca <- subtypes[subtypes$cancer.type == \"BRCA\",]\n",
    "\n",
    "write.csv(sub_brca, \"../data/TCGA/BRCA/BRCA_subtypes_biolinks.csv\")"
   ]
  }
 ],
 "metadata": {
  "kernelspec": {
   "display_name": "R",
   "language": "R",
   "name": "ir"
  },
  "language_info": {
   "codemirror_mode": "r",
   "file_extension": ".r",
   "mimetype": "text/x-r-source",
   "name": "R",
   "pygments_lexer": "r",
   "version": "3.6.1"
  }
 },
 "nbformat": 4,
 "nbformat_minor": 5
}
