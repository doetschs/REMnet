{
 "cells": [
  {
   "cell_type": "code",
   "execution_count": 1,
   "id": "d44ae6fb",
   "metadata": {},
   "outputs": [],
   "source": [
    "import csv\n",
    "from tqdm import tqdm"
   ]
  },
  {
   "cell_type": "code",
   "execution_count": 2,
   "id": "902e1cb8",
   "metadata": {},
   "outputs": [
    {
     "name": "stdout",
     "output_type": "stream",
     "text": [
      "2404862\n"
     ]
    }
   ],
   "source": [
    "with open('../data/REMAnnotationModelScore_1.csv') as file:\n",
    "    reader = csv.reader(file)\n",
    "#     rowCount = sum(1 for row in reader)\n",
    "#     print(rowCount)\n",
    "    counter = 0\n",
    "    for row in reader:\n",
    "        print(row)\n",
    "        counter += 1\n",
    "        if(counter == 15):\n",
    "            break"
   ]
  },
  {
   "cell_type": "code",
   "execution_count": null,
   "id": "add36b7c",
   "metadata": {
    "scrolled": true
   },
   "outputs": [],
   "source": [
    "s0 = set()\n",
    "with open('../data/REMActivity_1.csv') as file:\n",
    "    reader = csv.reader(file)\n",
    "    counter = 0\n",
    "    for row in reader:\n",
    "        if row[1] != \"sampleID\":\n",
    "            s0.add(row[1])\n",
    "            if row[1] == \"B_S001S712\":\n",
    "                print(row)\n",
    "        counter += 1\n",
    "        if(counter == 9999):\n",
    "            break\n"
   ]
  },
  {
   "cell_type": "code",
   "execution_count": 67,
   "id": "36e370a4",
   "metadata": {},
   "outputs": [
    {
     "name": "stdout",
     "output_type": "stream",
     "text": [
      "56\n"
     ]
    }
   ],
   "source": [
    "# get sampleId and referring celltype in a dict for blueprint data\n",
    "\n",
    "d = dict()\n",
    "s1 = set()\n",
    "with open('../data/sampleInfo_Blueprint_1.csv') as file:\n",
    "    reader = csv.reader(file)\n",
    "    for row in reader:\n",
    "#         print(row)\n",
    "        if  row[0] != \"sampleID\": \n",
    "            s1.add(row[0])\n",
    "            d.setdefault(row[0],[]).append(row[2])\n",
    "\n",
    "# print(s1)\n",
    "print(len(s1))"
   ]
  },
  {
   "cell_type": "code",
   "execution_count": 41,
   "id": "11fc3f0c",
   "metadata": {},
   "outputs": [
    {
     "name": "stdout",
     "output_type": "stream",
     "text": [
      "111\n"
     ]
    }
   ],
   "source": [
    "# get sampleId and referring celltype in a dict for roadmap data\n",
    "\n",
    "s2 = set()\n",
    "with open('../data/sampleInfo_Roadmap_1.csv') as file:\n",
    "    reader = csv.reader(file)\n",
    "    for row in reader:\n",
    "#         print(row)\n",
    "        if  row[2] != \"cellTypeID\": \n",
    "            s2.add(row[0])\n",
    "            d.setdefault(row[0],[]).append(row[2])\n",
    "\n",
    "# print(s2)\n",
    "print(len(s2))"
   ]
  },
  {
   "cell_type": "code",
   "execution_count": 53,
   "id": "ab38ea6f",
   "metadata": {},
   "outputs": [],
   "source": [
    "# get dict for cellltypes and referrring celltypenames for blueprint and roadmap\n",
    "\n",
    "cellTypeNames = dict()\n",
    "celltypes = list()\n",
    "with open('../data/CellTypeInfo.csv') as file:\n",
    "    reader = csv.reader(file)\n",
    "    for row in reader:\n",
    "        if row[0] != \"cellTypeID\":\n",
    "            celltypes.append(row[0])\n",
    "            cellTypeNames.setdefault(row[0],[]).append(row[1])"
   ]
  },
  {
   "cell_type": "code",
   "execution_count": 65,
   "id": "65129733",
   "metadata": {},
   "outputs": [],
   "source": [
    "# write csv with sampleID, celltype, celltypeName\n",
    "\n",
    "with open('../data/sampleToCelltype.csv', 'w') as f:\n",
    "    writer = csv.writer(f)\n",
    "    writer.writerow([\"sampleID\", \"cellTypeID\", \"cellTypeName\"])\n",
    "    for k, v in d.items():\n",
    "        writer.writerow([k, v[0], cellTypeNames.get(v[0])[0]])\n"
   ]
  }
 ],
 "metadata": {
  "kernelspec": {
   "display_name": "Python 3 (ipykernel)",
   "language": "python",
   "name": "python3"
  },
  "language_info": {
   "codemirror_mode": {
    "name": "ipython",
    "version": 3
   },
   "file_extension": ".py",
   "mimetype": "text/x-python",
   "name": "python",
   "nbconvert_exporter": "python",
   "pygments_lexer": "ipython3",
   "version": "3.9.16"
  }
 },
 "nbformat": 4,
 "nbformat_minor": 5
}
